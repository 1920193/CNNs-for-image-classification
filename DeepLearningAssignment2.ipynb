{
 "cells": [
  {
   "cell_type": "markdown",
   "id": "1ebafc92",
   "metadata": {},
   "source": [
    "# LIBRARIES"
   ]
  },
  {
   "cell_type": "code",
   "execution_count": null,
   "id": "db28dbad",
   "metadata": {},
   "outputs": [],
   "source": [
    "# Importing all the necessary libraries for this assessment \n",
    "\n",
    "import torch\n",
    "import torch.nn as nn\n",
    "import torch.optim as optim\n",
    "import torchvision\n",
    "import torchvision.transforms as transforms\n",
    "import matplotlib.pyplot as plt\n",
    "from tqdm import tqdm\n",
    "import torch.nn.functional as F\n",
    "from efficientnet_pytorch import EfficientNet\n",
    "import torchvision.models as models\n",
    "\n",
    "#Importing Random Libraries and setting seed \n",
    "import random \n",
    "torch.manual_seed(100)\n",
    "torch.cuda.manual_seed(100)\n",
    "random.seed(100)"
   ]
  },
  {
   "cell_type": "code",
   "execution_count": null,
   "id": "eb0be37a",
   "metadata": {},
   "outputs": [],
   "source": [
    "# Switiching from cpu to gpu for better performance and faster processsing\n",
    "\n",
    "set_gpu = torch.device(\"cuda:0\" if torch.cuda.is_available() else \"cpu\")"
   ]
  },
  {
   "cell_type": "markdown",
   "id": "d8eb04d3",
   "metadata": {},
   "source": [
    "# HYPERPARAMETER"
   ]
  },
  {
   "cell_type": "code",
   "execution_count": null,
   "id": "e3adae0f",
   "metadata": {},
   "outputs": [],
   "source": [
    "# Defining the hyperparamters\n",
    "batch_size = 50  # Batch Size  \n",
    "count_epochs = 10  # Epochs \n",
    "global_learning_rate = 0.002  # Learning Rate\n",
    "loss_list = []\n",
    "\n",
    "# Initializing an empty dictionary \n",
    "model_accuracies = {}"
   ]
  },
  {
   "cell_type": "code",
   "execution_count": null,
   "id": "519d0550",
   "metadata": {},
   "outputs": [],
   "source": [
    "# Executing data Preprocessing and augmentation. Following the split, the complete dataset—train and test—is subjected to transformations, such as normalization.\n",
    "\n",
    "train_data_transformed = transforms.Compose([\n",
    "    transforms.RandomHorizontalFlip(),\n",
    "    transforms.RandomCrop(32, padding=4),\n",
    "    transforms.ColorJitter(brightness=0.2, contrast=0.2, saturation=0.2, hue=0.1),\n",
    "    transforms.ToTensor(),\n",
    "    transforms.Normalize((0.5, 0.5, 0.5), (0.5, 0.5, 0.5))\n",
    "])\n",
    "\n",
    "\n",
    "test_data_transformed = transforms.Compose([\n",
    "    transforms.ToTensor(),\n",
    "    transforms.Normalize((0.5, 0.5, 0.5), (0.5, 0.5, 0.5))\n",
    "])"
   ]
  },
  {
   "cell_type": "code",
   "execution_count": null,
   "id": "7aa6e9fe",
   "metadata": {},
   "outputs": [],
   "source": [
    "def perform_data_loading(batch_size):\n",
    "\n",
    "    # Dividing the data according to the CIFAR dataset's preset training and test sets. To enable speedier data loading, we have maintained num_workers at 4 for better performance\n",
    "\n",
    "    train_data = torchvision.datasets.CIFAR10(root='./data', train=True, download=True, transform=train_data_transformed)\n",
    "    train_data_loader = torch.utils.data.DataLoader(train_data, batch_size=batch_size, shuffle=True, num_workers=4) \n",
    "\n",
    "    test_data = torchvision.datasets.CIFAR10(root='./data', train=False, download=True, transform=test_data_transformed)\n",
    "    test_data_loader = torch.utils.data.DataLoader(test_data, batch_size=batch_size, shuffle=False, num_workers=4)  \n",
    "    \n",
    "    return train_data_loader, test_data_loader"
   ]
  },
  {
   "cell_type": "code",
   "execution_count": null,
   "id": "9458c6c7",
   "metadata": {},
   "outputs": [],
   "source": [
    "# Model Definition\n",
    "class CNN(nn.Module):\n",
    "    def __init__(self):\n",
    "        super(CNN, self).__init__()\n",
    "        self.c1 = nn.Conv2d(3, 64, 3, padding=1)\n",
    "        self.bn1 = nn.BatchNorm2d(64)\n",
    "        self.pool = nn.MaxPool2d(2, 2)\n",
    "        self.c2 = nn.Conv2d(64, 128, 3, padding=1)\n",
    "        self.bn2 = nn.BatchNorm2d(128)\n",
    "        self.fc1 = nn.Linear(128 * 8 * 8, 256)\n",
    "        self.bn3 = nn.BatchNorm1d(256)\n",
    "        self.fc2 = nn.Linear(256, 128)  \n",
    "        self.bn4 = nn.BatchNorm1d(128)  \n",
    "        self.dropout = nn.Dropout(0.5)\n",
    "        self.fc3 = nn.Linear(128, 10)  \n",
    "\n",
    "    def forward(self, x):\n",
    "        x = self.pool(F.relu(self.bn1(self.c1(x))))\n",
    "        x = self.pool(F.relu(self.bn2(self.c2(x))))\n",
    "        x = x.view(-1, 128 * 8 * 8)\n",
    "        x = F.relu(self.bn3(self.fc1(x)))\n",
    "        x = F.relu(self.bn4(self.fc2(x)))  \n",
    "        x = self.dropout(x)\n",
    "        x = self.fc3(x)  \n",
    "        return x"
   ]
  },
  {
   "cell_type": "code",
   "execution_count": null,
   "id": "670f6f05",
   "metadata": {},
   "outputs": [],
   "source": [
    "# Define our Scheduler for Learning Rates \n",
    "\n",
    "def def_learning_rate_scheduler(optimizer, epoch):\n",
    "    learning_rate = global_learning_rate\n",
    "    if epoch >= 15:\n",
    "        learning_rate /= 10\n",
    "\n",
    "    for param_group in optimizer.param_groups:\n",
    "        param_group['lr'] = learning_rate"
   ]
  },
  {
   "cell_type": "code",
   "execution_count": null,
   "id": "7f1f1e2a",
   "metadata": {},
   "outputs": [],
   "source": [
    "# Getting our model trained. This code applies to all of the models we use today.\n",
    "\n",
    "def model_training(recieved_model, train_data_loader, count_epochs):\n",
    "    recieved_model.train()\n",
    "    criterion = nn.CrossEntropyLoss()\n",
    "    optimizer = optim.Adam(recieved_model.parameters(), lr=global_learning_rate, weight_decay=5e-4)  # Using Adam optimizer\n",
    "    accuracy_list = []\n",
    "\n",
    "    for epoch in range(count_epochs):\n",
    "\n",
    "        r_loss = 0.0\n",
    "        correct = 0\n",
    "        total = 0\n",
    "\n",
    "        def_learning_rate_scheduler(optimizer, epoch)\n",
    "        \n",
    "        # To further understand our findings, we utilize the TQDM library.\n",
    "\n",
    "        with tqdm(train_data_loader, unit=\"batch\", bar_format=\"{l_bar}{bar:40}{r_bar}\") as t:\n",
    "            t.set_description(f\"Epoch {epoch + 1}\")\n",
    "\n",
    "            for i, data in enumerate(t, 0):\n",
    "                input_data, data_labels = data\n",
    "                input_data, data_labels = input_data.to(set_gpu), data_labels.to(set_gpu)\n",
    "                optimizer.zero_grad()\n",
    "                outputs = recieved_model(input_data)\n",
    "                loss = criterion(outputs, data_labels)\n",
    "                loss.backward()\n",
    "                optimizer.step()\n",
    "                r_loss += loss.item()\n",
    "                \n",
    "                _, prediction = torch.max(outputs.data, 1)\n",
    "                total += data_labels.size(0)\n",
    "                correct += (prediction == data_labels).sum().item()\n",
    "            \n",
    "                # Add to the loss list the epoch's average loss.\n",
    "            loss_list.append(r_loss / len(train_data_loader))\n",
    "\n",
    "            accuracy = 100 * correct / total\n",
    "            accuracy_list.append(accuracy)\n",
    "\n",
    "            t.set_postfix(loss=f\"{r_loss / len(train_data_loader):.4f}\", accuracy=f\"{accuracy:.2f}%\")\n",
    "            \n",
    "            print(f\"Epoch {epoch + 1}/{count_epochs}, Loss: {r_loss / len(train_data_loader):.4f}, Accuracy: {accuracy:.2f}%\")\n",
    "    \n",
    "    print(\"Finished Training\")\n",
    "    \n",
    "    return accuracy_list"
   ]
  },
  {
   "cell_type": "code",
   "execution_count": null,
   "id": "1762b612",
   "metadata": {},
   "outputs": [],
   "source": [
    "# Analysis of our model. Similar to training, all of our current models share this code.\n",
    "\n",
    "def model_evalutaion(recieved_model, test_data_loader):\n",
    "    recieved_model.eval()\n",
    "    correct_hit = 0\n",
    "    total_hit = 0\n",
    "\n",
    "    with torch.no_grad():\n",
    "        for data in test_data_loader:\n",
    "            images_data, labels_data = data\n",
    "            images_data, labels_data = images_data.to(set_gpu), labels_data.to(set_gpu)\n",
    "            outputs = recieved_model(images_data)\n",
    "            _, predicted = torch.max(outputs.data, 1)\n",
    "            total_hit += labels_data.size(0)\n",
    "            correct_hit += (predicted == labels_data).sum().item()\n",
    "    \n",
    "    accuracy = 100 * correct_hit / total_hit\n",
    "    print(f\"Accuracy on the test set: {accuracy}%\")\n",
    "\n",
    "    return accuracy"
   ]
  },
  {
   "cell_type": "code",
   "execution_count": null,
   "id": "8a439067",
   "metadata": {},
   "outputs": [
    {
     "name": "stdout",
     "output_type": "stream",
     "text": [
      "Files already downloaded and verified\n",
      "Files already downloaded and verified\n"
     ]
    },
    {
     "data": {
      "text/plain": [
       "CNN(\n",
       "  (c1): Conv2d(3, 64, kernel_size=(3, 3), stride=(1, 1), padding=(1, 1))\n",
       "  (bn1): BatchNorm2d(64, eps=1e-05, momentum=0.1, affine=True, track_running_stats=True)\n",
       "  (pool): MaxPool2d(kernel_size=2, stride=2, padding=0, dilation=1, ceil_mode=False)\n",
       "  (c2): Conv2d(64, 128, kernel_size=(3, 3), stride=(1, 1), padding=(1, 1))\n",
       "  (bn2): BatchNorm2d(128, eps=1e-05, momentum=0.1, affine=True, track_running_stats=True)\n",
       "  (fc1): Linear(in_features=8192, out_features=256, bias=True)\n",
       "  (bn3): BatchNorm1d(256, eps=1e-05, momentum=0.1, affine=True, track_running_stats=True)\n",
       "  (fc2): Linear(in_features=256, out_features=128, bias=True)\n",
       "  (bn4): BatchNorm1d(128, eps=1e-05, momentum=0.1, affine=True, track_running_stats=True)\n",
       "  (dropout): Dropout(p=0.5, inplace=False)\n",
       "  (fc3): Linear(in_features=128, out_features=10, bias=True)\n",
       ")"
      ]
     },
     "execution_count": 13,
     "metadata": {},
     "output_type": "execute_result"
    }
   ],
   "source": [
    "# Assign our data loaders to add information to our variables.\n",
    "\n",
    "loader_train_data, loader_test_data = perform_data_loading(batch_size)\n",
    "\n",
    "# Make a list of training data batches.\n",
    "loader_train_data = [(inputs.to(set_gpu), labels.to(set_gpu)) for inputs, labels in loader_train_data]\n",
    "\n",
    "# Make a list of the test data batches.\n",
    "loader_test_data = [(inputs.to(set_gpu), labels.to(set_gpu)) for inputs, labels in loader_test_data]\n",
    "\n",
    "# Transfer the model over to the GPU.\n",
    "model_CNN = CNN()\n",
    "model_CNN.to(set_gpu)"
   ]
  },
  {
   "cell_type": "code",
   "execution_count": null,
   "id": "534c8de8",
   "metadata": {},
   "outputs": [
    {
     "name": "stderr",
     "output_type": "stream",
     "text": [
      "Epoch 1: 100%|████████████████████████████████████████| 1000/1000 [00:44<00:00, 22.49batch/s]\n"
     ]
    },
    {
     "name": "stdout",
     "output_type": "stream",
     "text": [
      "Epoch 1/10, Loss: 1.5314, Accuracy: 44.66%\n"
     ]
    },
    {
     "name": "stderr",
     "output_type": "stream",
     "text": [
      "Epoch 2: 100%|████████████████████████████████████████| 1000/1000 [00:44<00:00, 22.34batch/s]\n"
     ]
    },
    {
     "name": "stdout",
     "output_type": "stream",
     "text": [
      "Epoch 2/10, Loss: 1.2643, Accuracy: 55.39%\n"
     ]
    },
    {
     "name": "stderr",
     "output_type": "stream",
     "text": [
      "Epoch 3: 100%|████████████████████████████████████████| 1000/1000 [00:43<00:00, 22.93batch/s]\n"
     ]
    },
    {
     "name": "stdout",
     "output_type": "stream",
     "text": [
      "Epoch 3/10, Loss: 1.1586, Accuracy: 59.50%\n"
     ]
    },
    {
     "name": "stderr",
     "output_type": "stream",
     "text": [
      "Epoch 4: 100%|████████████████████████████████████████| 1000/1000 [00:43<00:00, 22.79batch/s]\n"
     ]
    },
    {
     "name": "stdout",
     "output_type": "stream",
     "text": [
      "Epoch 4/10, Loss: 1.0733, Accuracy: 62.59%\n"
     ]
    },
    {
     "name": "stderr",
     "output_type": "stream",
     "text": [
      "Epoch 5: 100%|████████████████████████████████████████| 1000/1000 [00:44<00:00, 22.56batch/s]\n"
     ]
    },
    {
     "name": "stdout",
     "output_type": "stream",
     "text": [
      "Epoch 5/10, Loss: 1.0016, Accuracy: 65.45%\n"
     ]
    },
    {
     "name": "stderr",
     "output_type": "stream",
     "text": [
      "Epoch 6: 100%|████████████████████████████████████████| 1000/1000 [00:44<00:00, 22.50batch/s]\n"
     ]
    },
    {
     "name": "stdout",
     "output_type": "stream",
     "text": [
      "Epoch 6/10, Loss: 0.9402, Accuracy: 67.56%\n"
     ]
    },
    {
     "name": "stderr",
     "output_type": "stream",
     "text": [
      "Epoch 7: 100%|████████████████████████████████████████| 1000/1000 [00:46<00:00, 21.31batch/s]\n"
     ]
    },
    {
     "name": "stdout",
     "output_type": "stream",
     "text": [
      "Epoch 7/10, Loss: 0.8809, Accuracy: 69.76%\n"
     ]
    },
    {
     "name": "stderr",
     "output_type": "stream",
     "text": [
      "Epoch 8: 100%|████████████████████████████████████████| 1000/1000 [00:58<00:00, 17.12batch/s]\n"
     ]
    },
    {
     "name": "stdout",
     "output_type": "stream",
     "text": [
      "Epoch 8/10, Loss: 0.8341, Accuracy: 71.36%\n"
     ]
    },
    {
     "name": "stderr",
     "output_type": "stream",
     "text": [
      "Epoch 9: 100%|████████████████████████████████████████| 1000/1000 [01:38<00:00, 10.14batch/s]\n"
     ]
    },
    {
     "name": "stdout",
     "output_type": "stream",
     "text": [
      "Epoch 9/10, Loss: 0.7919, Accuracy: 72.74%\n"
     ]
    },
    {
     "name": "stderr",
     "output_type": "stream",
     "text": [
      "Epoch 10: 100%|████████████████████████████████████████| 1000/1000 [02:15<00:00,  7.36batch/s]\n"
     ]
    },
    {
     "name": "stdout",
     "output_type": "stream",
     "text": [
      "Epoch 10/10, Loss: 0.7545, Accuracy: 74.05%\n",
      "Finished Training\n",
      "Accuracy on the test set: 69.96%\n"
     ]
    }
   ],
   "source": [
    "#Building the CNN model and training it\n",
    "\n",
    "accuracy_list = model_training(model_CNN, loader_train_data, count_epochs)\n",
    "\n",
    "model_name = 'CNN'\n",
    "accuracy = model_evalutaion(model_CNN, loader_test_data) \n",
    "model_CNN= model_CNN.cpu()\n",
    "model_accuracies[model_name] = accuracy"
   ]
  },
  {
   "cell_type": "code",
   "execution_count": null,
   "id": "4cd189a9",
   "metadata": {},
   "outputs": [
    {
     "data": {
      "image/png": "[encoded data removed]",
      "text/plain": [
       "<Figure size 1000x500 with 1 Axes>"
      ]
     },
     "metadata": {},
     "output_type": "display_data"
    },
    {
     "data": {
      "image/png": "[encoded data removed]",
      "text/plain": [
       "<Figure size 1000x500 with 1 Axes>"
      ]
     },
     "metadata": {},
     "output_type": "display_data"
    }
   ],
   "source": [
    "# Make a new figure for our CNN results' loss vs. epoch plot.\n",
    "\n",
    "plt.figure(figsize=(10, 5))\n",
    "\n",
    "#Plotting the graph \n",
    "plt.plot(range(1, count_epochs + 1), loss_list, label='loss', color='red')\n",
    "plt.xlabel('Epoch')\n",
    "plt.ylabel('Loss')\n",
    "plt.legend(loc='upper right')\n",
    "\n",
    "plt.figure(figsize=(10, 5))\n",
    "\n",
    "plt.plot(range(1, count_epochs + 1), accuracy_list, label='accuracy')\n",
    "plt.xlabel('Epoch')\n",
    "plt.ylabel('Accuracy')\n",
    "plt.ylim([0, 100])\n",
    "plt.legend(loc='lower right')\n",
    "plt.show()"
   ]
  },
  {
   "cell_type": "markdown",
   "id": "c3704ecb",
   "metadata": {},
   "source": [
    "# USING DIFFERENCE MODELS"
   ]
  },
  {
   "cell_type": "markdown",
   "id": "fd97cf6d",
   "metadata": {},
   "source": [
    "# 1 : LeNet MODEL"
   ]
  },
  {
   "cell_type": "code",
   "execution_count": null,
   "id": "61ef44db",
   "metadata": {},
   "outputs": [
    {
     "name": "stderr",
     "output_type": "stream",
     "text": [
      "Epoch 1: 100%|████████████████████████████████████████| 1000/1000 [00:14<00:00, 69.96batch/s]\n"
     ]
    },
    {
     "name": "stdout",
     "output_type": "stream",
     "text": [
      "Epoch 1/10, Loss: 1.5197, Accuracy: 45.59%\n"
     ]
    },
    {
     "name": "stderr",
     "output_type": "stream",
     "text": [
      "Epoch 2: 100%|████████████████████████████████████████| 1000/1000 [00:14<00:00, 71.39batch/s]\n"
     ]
    },
    {
     "name": "stdout",
     "output_type": "stream",
     "text": [
      "Epoch 2/10, Loss: 1.2309, Accuracy: 56.48%\n"
     ]
    },
    {
     "name": "stderr",
     "output_type": "stream",
     "text": [
      "Epoch 3: 100%|████████████████████████████████████████| 1000/1000 [00:15<00:00, 64.27batch/s]\n"
     ]
    },
    {
     "name": "stdout",
     "output_type": "stream",
     "text": [
      "Epoch 3/10, Loss: 1.1136, Accuracy: 60.93%\n"
     ]
    },
    {
     "name": "stderr",
     "output_type": "stream",
     "text": [
      "Epoch 4: 100%|████████████████████████████████████████| 1000/1000 [00:14<00:00, 69.93batch/s]\n"
     ]
    },
    {
     "name": "stdout",
     "output_type": "stream",
     "text": [
      "Epoch 4/10, Loss: 1.0265, Accuracy: 64.57%\n"
     ]
    },
    {
     "name": "stderr",
     "output_type": "stream",
     "text": [
      "Epoch 5: 100%|████████████████████████████████████████| 1000/1000 [00:13<00:00, 71.57batch/s]\n"
     ]
    },
    {
     "name": "stdout",
     "output_type": "stream",
     "text": [
      "Epoch 5/10, Loss: 0.9649, Accuracy: 66.49%\n"
     ]
    },
    {
     "name": "stderr",
     "output_type": "stream",
     "text": [
      "Epoch 6: 100%|████████████████████████████████████████| 1000/1000 [00:14<00:00, 71.26batch/s]\n"
     ]
    },
    {
     "name": "stdout",
     "output_type": "stream",
     "text": [
      "Epoch 6/10, Loss: 0.9077, Accuracy: 68.47%\n"
     ]
    },
    {
     "name": "stderr",
     "output_type": "stream",
     "text": [
      "Epoch 7: 100%|████████████████████████████████████████| 1000/1000 [00:14<00:00, 71.21batch/s]\n"
     ]
    },
    {
     "name": "stdout",
     "output_type": "stream",
     "text": [
      "Epoch 7/10, Loss: 0.8549, Accuracy: 70.23%\n"
     ]
    },
    {
     "name": "stderr",
     "output_type": "stream",
     "text": [
      "Epoch 8: 100%|████████████████████████████████████████| 1000/1000 [00:14<00:00, 69.91batch/s]\n"
     ]
    },
    {
     "name": "stdout",
     "output_type": "stream",
     "text": [
      "Epoch 8/10, Loss: 0.8120, Accuracy: 71.97%\n"
     ]
    },
    {
     "name": "stderr",
     "output_type": "stream",
     "text": [
      "Epoch 9: 100%|████████████████████████████████████████| 1000/1000 [00:16<00:00, 60.48batch/s]\n"
     ]
    },
    {
     "name": "stdout",
     "output_type": "stream",
     "text": [
      "Epoch 9/10, Loss: 0.7727, Accuracy: 73.03%\n"
     ]
    },
    {
     "name": "stderr",
     "output_type": "stream",
     "text": [
      "Epoch 10: 100%|████████████████████████████████████████| 1000/1000 [00:17<00:00, 57.60batch/s]\n"
     ]
    },
    {
     "name": "stdout",
     "output_type": "stream",
     "text": [
      "Epoch 10/10, Loss: 0.7347, Accuracy: 74.41%\n",
      "Finished Training\n",
      "Accuracy on the test set: 68.06%\n"
     ]
    },
    {
     "data": {
      "image/png": "[encoded data removed]",
      "text/plain": [
       "<Figure size 1200x400 with 2 Axes>"
      ]
     },
     "metadata": {},
     "output_type": "display_data"
    }
   ],
   "source": [
    "class LeNet(nn.Module):\n",
    "    def __init__(self):\n",
    "        super(LeNet, self).__init__()\n",
    "        self.c1 = nn.Conv2d(3, 32, 5)\n",
    "        self.c_b1 = nn.BatchNorm2d(32)\n",
    "        self.pool = nn.MaxPool2d(2, 2)\n",
    "        self.c2 = nn.Conv2d(32, 64, 5)\n",
    "        self.c_b2 = nn.BatchNorm2d(64)\n",
    "        self.fc1 = nn.Linear(64 * 5 * 5, 256)\n",
    "        self.fc1_bn = nn.BatchNorm1d(256)\n",
    "        self.fc2 = nn.Linear(256, 128)\n",
    "        self.fc2_bn = nn.BatchNorm1d(128)\n",
    "        self.fc3 = nn.Linear(128, 10)\n",
    "        self.fc3_bn = nn.BatchNorm1d(10)\n",
    "\n",
    "    def forward(self, x):\n",
    "        x = self.pool(F.relu(self.c_b1(self.c1(x))))\n",
    "        x = self.pool(F.relu(self.c_b2(self.c2(x))))\n",
    "        x = x.view(-1, 64 * 5 * 5)\n",
    "        x = F.relu(self.fc1_bn(self.fc1(x)))\n",
    "        x = F.relu(self.fc2_bn(self.fc2(x)))\n",
    "        x = self.fc3_bn(self.fc3(x))\n",
    "        return x\n",
    "\n",
    "\n",
    "#Building our LeNet framework\n",
    "model_lenet = LeNet()\n",
    "model_lenet = model_lenet.to(set_gpu)\n",
    "\n",
    "\n",
    "\n",
    "history_lenet = model_training(model_lenet, loader_train_data, count_epochs)\n",
    "\n",
    "# Using the test data to assess the LeNet model\n",
    "\n",
    "#Assess and record ModifiedLeNet's accuracy.\n",
    "model_name = 'ModifiedLeNet'\n",
    "accuracy = model_evalutaion(model_lenet, loader_test_data) \n",
    "model_accuracies[model_name] = accuracy\n",
    "model_lenet=model_lenet.cpu()\n",
    "\n",
    "train_losses = history_lenet  \n",
    "val_losses = history_lenet  \n",
    "val_accuracies = history_lenet  \n",
    "count_epochs = len(history_lenet)  \n",
    "\n",
    "# Plot our LeNet model's training and validation losses.\n",
    "plt.figure(figsize=(12, 4))\n",
    "plt.subplot(1, 2, 1)\n",
    "plt.plot(range(1, count_epochs + 1), train_losses, label='Training Loss', color='red')\n",
    "plt.plot(range(1, count_epochs + 1), val_losses, label='Validation Loss', color='blue')\n",
    "plt.xlabel('Epoch')\n",
    "plt.ylabel('Loss')\n",
    "plt.legend()\n",
    "\n",
    "\n",
    "plt.subplot(1, 2, 2)\n",
    "plt.plot(range(1, count_epochs + 1), val_accuracies, label='Validation Accuracy', color='green')\n",
    "plt.xlabel('Epoch')\n",
    "plt.ylabel('Accuracy')\n",
    "plt.ylim(0, 100)\n",
    "\n",
    "plt.tight_layout()\n",
    "plt.show()"
   ]
  },
  {
   "cell_type": "markdown",
   "id": "3c0b32b9",
   "metadata": {},
   "source": [
    "# 2 : EfficientNet MODEL"
   ]
  },
  {
   "cell_type": "code",
   "execution_count": null,
   "id": "a3c48b36",
   "metadata": {},
   "outputs": [
    {
     "name": "stderr",
     "output_type": "stream",
     "text": [
      "Epoch 1: 100%|████████████████████████████████████████| 1000/1000 [03:52<00:00,  4.30batch/s]\n"
     ]
    },
    {
     "name": "stdout",
     "output_type": "stream",
     "text": [
      "Epoch 1/10, Loss: 1.8992, Accuracy: 27.87%\n"
     ]
    },
    {
     "name": "stderr",
     "output_type": "stream",
     "text": [
      "Epoch 2: 100%|████████████████████████████████████████| 1000/1000 [04:04<00:00,  4.08batch/s]\n"
     ]
    },
    {
     "name": "stdout",
     "output_type": "stream",
     "text": [
      "Epoch 2/10, Loss: 1.6189, Accuracy: 38.83%\n"
     ]
    },
    {
     "name": "stderr",
     "output_type": "stream",
     "text": [
      "Epoch 3: 100%|████████████████████████████████████████| 1000/1000 [04:40<00:00,  3.56batch/s]\n"
     ]
    },
    {
     "name": "stdout",
     "output_type": "stream",
     "text": [
      "Epoch 3/10, Loss: 1.4308, Accuracy: 47.80%\n"
     ]
    },
    {
     "name": "stderr",
     "output_type": "stream",
     "text": [
      "Epoch 4: 100%|████████████████████████████████████████| 1000/1000 [05:28<00:00,  3.05batch/s]\n"
     ]
    },
    {
     "name": "stdout",
     "output_type": "stream",
     "text": [
      "Epoch 4/10, Loss: 1.3103, Accuracy: 52.99%\n"
     ]
    },
    {
     "name": "stderr",
     "output_type": "stream",
     "text": [
      "Epoch 5: 100%|████████████████████████████████████████| 1000/1000 [05:51<00:00,  2.84batch/s]\n"
     ]
    },
    {
     "name": "stdout",
     "output_type": "stream",
     "text": [
      "Epoch 5/10, Loss: 1.2333, Accuracy: 55.99%\n"
     ]
    },
    {
     "name": "stderr",
     "output_type": "stream",
     "text": [
      "Epoch 6: 100%|████████████████████████████████████████| 1000/1000 [06:12<00:00,  2.69batch/s]\n"
     ]
    },
    {
     "name": "stdout",
     "output_type": "stream",
     "text": [
      "Epoch 6/10, Loss: 1.1782, Accuracy: 58.31%\n"
     ]
    },
    {
     "name": "stderr",
     "output_type": "stream",
     "text": [
      "Epoch 7: 100%|████████████████████████████████████████| 1000/1000 [06:06<00:00,  2.73batch/s]\n"
     ]
    },
    {
     "name": "stdout",
     "output_type": "stream",
     "text": [
      "Epoch 7/10, Loss: 1.1337, Accuracy: 60.09%\n"
     ]
    },
    {
     "name": "stderr",
     "output_type": "stream",
     "text": [
      "Epoch 8: 100%|████████████████████████████████████████| 1000/1000 [06:10<00:00,  2.70batch/s]\n"
     ]
    },
    {
     "name": "stdout",
     "output_type": "stream",
     "text": [
      "Epoch 8/10, Loss: 1.0962, Accuracy: 61.52%\n"
     ]
    },
    {
     "name": "stderr",
     "output_type": "stream",
     "text": [
      "Epoch 9: 100%|████████████████████████████████████████| 1000/1000 [06:03<00:00,  2.75batch/s]\n"
     ]
    },
    {
     "name": "stdout",
     "output_type": "stream",
     "text": [
      "Epoch 9/10, Loss: 1.0653, Accuracy: 62.61%\n"
     ]
    },
    {
     "name": "stderr",
     "output_type": "stream",
     "text": [
      "Epoch 10: 100%|████████████████████████████████████████| 1000/1000 [06:33<00:00,  2.54batch/s]\n"
     ]
    },
    {
     "name": "stdout",
     "output_type": "stream",
     "text": [
      "Epoch 10/10, Loss: 1.0377, Accuracy: 63.77%\n",
      "Finished Training\n",
      "Accuracy on the test set: 60.8%\n"
     ]
    },
    {
     "data": {
      "image/png": "[encoded data removed]",
      "text/plain": [
       "<Figure size 640x480 with 1 Axes>"
      ]
     },
     "metadata": {},
     "output_type": "display_data"
    }
   ],
   "source": [
    "\n",
    "# Creating a unique EfficientNet model \n",
    "from efficientnet_pytorch import EfficientNet\n",
    "\n",
    "class ModelEfficientNet(nn.Module):\n",
    "    def __init__(self, num_classes=10):\n",
    "        super(ModelEfficientNet, self).__init__()\n",
    "        self.efficientnet = EfficientNet.from_name('efficientnet-b0')  \n",
    "        in_features = self.efficientnet._fc.in_features\n",
    "        self.efficientnet._fc = nn.Sequential(\n",
    "            nn.Linear(in_features, 256),\n",
    "            nn.ReLU(),\n",
    "            nn.BatchNorm1d(256),\n",
    "            nn.Linear(256, num_classes)\n",
    "        )\n",
    "\n",
    "    def forward(self, x):\n",
    "        return self.efficientnet(x)\n",
    "\n",
    "\n",
    "model_efficientnet = ModelEfficientNet(num_classes=10)  \n",
    "\n",
    "\n",
    "model_efficientnet = model_efficientnet.to(set_gpu)\n",
    "\n",
    "train_accuracy_list = model_training(model_efficientnet, loader_train_data, count_epochs)\n",
    "\n",
    "# Assessing ModifiedEfficientNet's storage correctness and the EfficientNet model\n",
    "\n",
    "model_name = 'ModifiedEfficientNet'\n",
    "accuracy = model_evalutaion(model_efficientnet, loader_test_data)  # \n",
    "\n",
    "model_efficientnet=model_efficientnet.cpu()\n",
    "# Plotting our EfficientNet model's accuracy\n",
    "plt.subplot(1, 2, 2)\n",
    "plt.plot(range(1, count_epochs + 1), train_accuracy_list, label='Accuracy', color='Red')\n",
    "plt.xlabel('Epoch')\n",
    "plt.ylabel('Accuracy')\n",
    "plt.ylim(0, 100)\n",
    "plt.legend()\n",
    "plt.tight_layout()\n",
    "plt.show()\n",
    "\n"
   ]
  },
  {
   "cell_type": "markdown",
   "id": "2af5071d",
   "metadata": {},
   "source": [
    "# 3 : ResNet18 MODEL"
   ]
  },
  {
   "cell_type": "code",
   "execution_count": null,
   "id": "8699fd92",
   "metadata": {},
   "outputs": [
    {
     "name": "stderr",
     "output_type": "stream",
     "text": [
      "C:\\Users\\Viral Panchal\\AppData\\Local\\Packages\\PythonSoftwareFoundation.Python.3.12_qbz5n2kfra8p0\\LocalCache\\local-packages\\Python312\\site-packages\\torchvision\\models\\_utils.py:208: UserWarning: The parameter 'pretrained' is deprecated since 0.13 and may be removed in the future, please use 'weights' instead.\n",
      "  warnings.warn(\n",
      "C:\\Users\\Viral Panchal\\AppData\\Local\\Packages\\PythonSoftwareFoundation.Python.3.12_qbz5n2kfra8p0\\LocalCache\\local-packages\\Python312\\site-packages\\torchvision\\models\\_utils.py:223: UserWarning: Arguments other than a weight enum or `None` for 'weights' are deprecated since 0.13 and may be removed in the future. The current behavior is equivalent to passing `weights=ResNet18_Weights.IMAGENET1K_V1`. You can also use `weights=ResNet18_Weights.DEFAULT` to get the most up-to-date weights.\n",
      "  warnings.warn(msg)\n",
      "Downloading: \"https://download.pytorch.org/models/resnet18-f37072fd.pth\" to C:\\Users\\Viral Panchal/.cache\\torch\\hub\\checkpoints\\resnet18-f37072fd.pth\n",
      "100.0%\n",
      "Epoch 1: 100%|████████████████████████████████████████| 1000/1000 [01:30<00:00, 11.07batch/s]\n"
     ]
    },
    {
     "name": "stdout",
     "output_type": "stream",
     "text": [
      "Epoch 1/10, Loss: 1.4021, Accuracy: 50.68%\n"
     ]
    },
    {
     "name": "stderr",
     "output_type": "stream",
     "text": [
      "Epoch 2: 100%|████████████████████████████████████████| 1000/1000 [01:53<00:00,  8.79batch/s]\n"
     ]
    },
    {
     "name": "stdout",
     "output_type": "stream",
     "text": [
      "Epoch 2/10, Loss: 1.0996, Accuracy: 62.47%\n"
     ]
    },
    {
     "name": "stderr",
     "output_type": "stream",
     "text": [
      "Epoch 3: 100%|████████████████████████████████████████| 1000/1000 [02:24<00:00,  6.91batch/s]\n"
     ]
    },
    {
     "name": "stdout",
     "output_type": "stream",
     "text": [
      "Epoch 3/10, Loss: 0.9777, Accuracy: 66.77%\n"
     ]
    },
    {
     "name": "stderr",
     "output_type": "stream",
     "text": [
      "Epoch 4: 100%|████████████████████████████████████████| 1000/1000 [02:33<00:00,  6.52batch/s]\n"
     ]
    },
    {
     "name": "stdout",
     "output_type": "stream",
     "text": [
      "Epoch 4/10, Loss: 0.9005, Accuracy: 69.32%\n"
     ]
    },
    {
     "name": "stderr",
     "output_type": "stream",
     "text": [
      "Epoch 5: 100%|████████████████████████████████████████| 1000/1000 [02:45<00:00,  6.03batch/s]\n"
     ]
    },
    {
     "name": "stdout",
     "output_type": "stream",
     "text": [
      "Epoch 5/10, Loss: 0.8406, Accuracy: 71.56%\n"
     ]
    },
    {
     "name": "stderr",
     "output_type": "stream",
     "text": [
      "Epoch 6: 100%|████████████████████████████████████████| 1000/1000 [03:09<00:00,  5.27batch/s]\n"
     ]
    },
    {
     "name": "stdout",
     "output_type": "stream",
     "text": [
      "Epoch 6/10, Loss: 0.7933, Accuracy: 73.27%\n"
     ]
    },
    {
     "name": "stderr",
     "output_type": "stream",
     "text": [
      "Epoch 7: 100%|████████████████████████████████████████| 1000/1000 [03:33<00:00,  4.68batch/s]\n"
     ]
    },
    {
     "name": "stdout",
     "output_type": "stream",
     "text": [
      "Epoch 7/10, Loss: 0.7527, Accuracy: 74.38%\n"
     ]
    },
    {
     "name": "stderr",
     "output_type": "stream",
     "text": [
      "Epoch 8: 100%|████████████████████████████████████████| 1000/1000 [03:55<00:00,  4.24batch/s]\n"
     ]
    },
    {
     "name": "stdout",
     "output_type": "stream",
     "text": [
      "Epoch 8/10, Loss: 0.7195, Accuracy: 75.39%\n"
     ]
    },
    {
     "name": "stderr",
     "output_type": "stream",
     "text": [
      "Epoch 9: 100%|████████████████████████████████████████| 1000/1000 [04:16<00:00,  3.90batch/s]\n"
     ]
    },
    {
     "name": "stdout",
     "output_type": "stream",
     "text": [
      "Epoch 9/10, Loss: 0.6919, Accuracy: 76.46%\n"
     ]
    },
    {
     "name": "stderr",
     "output_type": "stream",
     "text": [
      "Epoch 10: 100%|████████████████████████████████████████| 1000/1000 [04:58<00:00,  3.35batch/s]\n"
     ]
    },
    {
     "name": "stdout",
     "output_type": "stream",
     "text": [
      "Epoch 10/10, Loss: 0.6648, Accuracy: 77.19%\n",
      "Finished Training\n",
      "Accuracy on the test set: 67.1%\n"
     ]
    },
    {
     "data": {
      "image/png": "[encoded data removed]",
      "text/plain": [
       "<Figure size 1200x400 with 1 Axes>"
      ]
     },
     "metadata": {},
     "output_type": "display_data"
    }
   ],
   "source": [
    "# Describe our unique ResNet18 model.\n",
    "\n",
    "class ResNet18(nn.Module):\n",
    "    def __init__(self, num_classes=10):\n",
    "        super(ResNet18, self).__init__()\n",
    "        self.resnet18 = models.resnet18(pretrained=True)\n",
    "        num_ftrs = self.resnet18.fc.in_features\n",
    "        self.resnet18.fc = nn.Sequential(\n",
    "            nn.Linear(num_ftrs, 256),\n",
    "            nn.ReLU(),\n",
    "            nn.BatchNorm1d(256),\n",
    "            nn.Linear(256, num_classes)\n",
    "        )\n",
    "\n",
    "    def forward(self, x):\n",
    "        return self.resnet18(x)\n",
    "\n",
    "model_resnet18 = ResNet18()\n",
    "model_resnet18 = model_resnet18.to(set_gpu)\n",
    "\n",
    "\n",
    "accuracy_list_resnet = model_training(model_resnet18, loader_train_data, count_epochs)\n",
    "\n",
    "\n",
    "model_name = 'ModifiedResNet18'\n",
    "accuracy = model_evalutaion(model_resnet18, loader_test_data)  \n",
    "model_accuracies[model_name] = accuracy\n",
    "model_resnet18=model_resnet18.cpu()\n",
    "\n",
    "plt.figure(figsize=(12, 4))\n",
    "\n",
    "# Plotting the accuracy\n",
    "plt.subplot(1, 2, 2)\n",
    "plt.plot(range(1, count_epochs + 1), accuracy_list_resnet, label='Accuracy', color='green')\n",
    "plt.xlabel('Epoch')\n",
    "plt.ylabel('Accuracy')\n",
    "plt.ylim(0, 100)\n",
    "plt.legend()\n",
    "plt.tight_layout()\n",
    "plt.show()"
   ]
  },
  {
   "cell_type": "markdown",
   "id": "ddb6691e",
   "metadata": {},
   "source": [
    "# 4 : ResNet50 MODEL"
   ]
  },
  {
   "cell_type": "code",
   "execution_count": 19,
   "id": "984683bd",
   "metadata": {},
   "outputs": [
    {
     "name": "stderr",
     "output_type": "stream",
     "text": [
      "C:\\Users\\Viral Panchal\\AppData\\Local\\Packages\\PythonSoftwareFoundation.Python.3.12_qbz5n2kfra8p0\\LocalCache\\local-packages\\Python312\\site-packages\\torchvision\\models\\_utils.py:223: UserWarning: Arguments other than a weight enum or `None` for 'weights' are deprecated since 0.13 and may be removed in the future. The current behavior is equivalent to passing `weights=ResNet50_Weights.IMAGENET1K_V1`. You can also use `weights=ResNet50_Weights.DEFAULT` to get the most up-to-date weights.\n",
      "  warnings.warn(msg)\n",
      "Downloading: \"https://download.pytorch.org/models/resnet50-0676ba61.pth\" to C:\\Users\\Viral Panchal/.cache\\torch\\hub\\checkpoints\\resnet50-0676ba61.pth\n",
      "100.0%\n",
      "Epoch 1: 100%|████████████████████████████████████████| 1000/1000 [03:50<00:00,  4.34batch/s]\n"
     ]
    },
    {
     "name": "stdout",
     "output_type": "stream",
     "text": [
      "Epoch 1/10, Loss: 1.4525, Accuracy: 48.06%\n"
     ]
    },
    {
     "name": "stderr",
     "output_type": "stream",
     "text": [
      "Epoch 2: 100%|████████████████████████████████████████| 1000/1000 [04:42<00:00,  3.54batch/s]\n"
     ]
    },
    {
     "name": "stdout",
     "output_type": "stream",
     "text": [
      "Epoch 2/10, Loss: 1.1895, Accuracy: 58.77%\n"
     ]
    },
    {
     "name": "stderr",
     "output_type": "stream",
     "text": [
      "Epoch 3: 100%|████████████████████████████████████████| 1000/1000 [06:22<00:00,  2.62batch/s]\n"
     ]
    },
    {
     "name": "stdout",
     "output_type": "stream",
     "text": [
      "Epoch 3/10, Loss: 1.1011, Accuracy: 62.00%\n"
     ]
    },
    {
     "name": "stderr",
     "output_type": "stream",
     "text": [
      "Epoch 4: 100%|████████████████████████████████████████| 1000/1000 [07:14<00:00,  2.30batch/s]\n"
     ]
    },
    {
     "name": "stdout",
     "output_type": "stream",
     "text": [
      "Epoch 4/10, Loss: 1.0218, Accuracy: 65.03%\n"
     ]
    },
    {
     "name": "stderr",
     "output_type": "stream",
     "text": [
      "Epoch 5: 100%|████████████████████████████████████████| 1000/1000 [08:19<00:00,  2.00batch/s]\n"
     ]
    },
    {
     "name": "stdout",
     "output_type": "stream",
     "text": [
      "Epoch 5/10, Loss: 0.9506, Accuracy: 67.33%\n"
     ]
    },
    {
     "name": "stderr",
     "output_type": "stream",
     "text": [
      "Epoch 6: 100%|████████████████████████████████████████| 1000/1000 [09:19<00:00,  1.79batch/s]\n"
     ]
    },
    {
     "name": "stdout",
     "output_type": "stream",
     "text": [
      "Epoch 6/10, Loss: 0.8956, Accuracy: 69.22%\n"
     ]
    },
    {
     "name": "stderr",
     "output_type": "stream",
     "text": [
      "Epoch 7: 100%|████████████████████████████████████████| 1000/1000 [10:19<00:00,  1.62batch/s]\n"
     ]
    },
    {
     "name": "stdout",
     "output_type": "stream",
     "text": [
      "Epoch 7/10, Loss: 0.8512, Accuracy: 70.73%\n"
     ]
    },
    {
     "name": "stderr",
     "output_type": "stream",
     "text": [
      "Epoch 8: 100%|████████████████████████████████████████| 1000/1000 [11:43<00:00,  1.42batch/s]\n"
     ]
    },
    {
     "name": "stdout",
     "output_type": "stream",
     "text": [
      "Epoch 8/10, Loss: 0.8208, Accuracy: 71.85%\n"
     ]
    },
    {
     "name": "stderr",
     "output_type": "stream",
     "text": [
      "Epoch 9: 100%|████████████████████████████████████████| 1000/1000 [13:49<00:00,  1.21batch/s]\n"
     ]
    },
    {
     "name": "stdout",
     "output_type": "stream",
     "text": [
      "Epoch 9/10, Loss: 0.7918, Accuracy: 72.85%\n"
     ]
    },
    {
     "name": "stderr",
     "output_type": "stream",
     "text": [
      "Epoch 10: 100%|████████████████████████████████████████| 1000/1000 [14:44<00:00,  1.13batch/s]\n"
     ]
    },
    {
     "name": "stdout",
     "output_type": "stream",
     "text": [
      "Epoch 10/10, Loss: 0.7700, Accuracy: 73.65%\n",
      "Finished Training\n",
      "Accuracy on the test set: 71.26%\n"
     ]
    },
    {
     "data": {
      "image/png": "[encoded data removed]",
      "text/plain": [
       "<Figure size 1200x400 with 1 Axes>"
      ]
     },
     "metadata": {},
     "output_type": "display_data"
    }
   ],
   "source": [
    "# Specifying our own ResNet50 model.\n",
    "\n",
    "class ResNet50(nn.Module):\n",
    "    def __init__(self, num_classes=10):\n",
    "        super(ResNet50, self).__init__()\n",
    "        self.resnet50 = models.resnet50(pretrained=True)\n",
    "        num_ftrs = self.resnet50.fc.in_features\n",
    "        self.resnet50.fc = nn.Sequential(\n",
    "            nn.Linear(num_ftrs, 256),\n",
    "            nn.ReLU(),\n",
    "            nn.BatchNorm1d(256),\n",
    "            nn.Linear(256, num_classes)\n",
    "        )\n",
    "\n",
    "    def forward(self, x):\n",
    "        return self.resnet50(x)\n",
    "\n",
    "resnet50mod = ResNet50()\n",
    "\n",
    "\n",
    "resnet50mod = resnet50mod.to(set_gpu)\n",
    "\n",
    "\n",
    "accuracy_list_resnet50 = model_training(resnet50mod, loader_train_data, count_epochs)\n",
    "\n",
    "\n",
    "model_name = 'ModifiedResNet50'\n",
    "accuracy = model_evalutaion(resnet50mod, loader_test_data)  \n",
    "model_accuracies[model_name] = accuracy\n",
    "resnet50mod=resnet50mod.cpu()\n",
    "\n",
    "plt.figure(figsize=(12, 4))\n",
    "\n",
    "# Plot the accuracy\n",
    "plt.subplot(1, 2, 2)\n",
    "plt.plot(range(1, count_epochs + 1), accuracy_list_resnet50, label='Accuracy', color='green')\n",
    "plt.xlabel('Epoch')\n",
    "plt.ylabel('Accuracy')\n",
    "plt.ylim(0, 100)\n",
    "plt.legend()\n",
    "plt.tight_layout()\n",
    "plt.show()"
   ]
  },
  {
   "cell_type": "markdown",
   "id": "978122f2",
   "metadata": {},
   "source": [
    "# EXAMINING THE ACCURACY OF THE ABOVE MODELS AND CREATING A HISTOGRAM OF IT"
   ]
  },
  {
   "cell_type": "code",
   "execution_count": 20,
   "id": "3904e5d2",
   "metadata": {},
   "outputs": [
    {
     "name": "stdout",
     "output_type": "stream",
     "text": [
      "CNN Accuracy: 69.96%\n",
      "ModifiedLeNet Accuracy: 68.06%\n",
      "ModifiedEfficientNet Accuracy: 60.80%\n",
      "ModifiedResNet18 Accuracy: 67.10%\n",
      "ModifiedResNet50 Accuracy: 71.26%\n"
     ]
    },
    {
     "data": {
      "image/png": "[encoded data removed]",
      "text/plain": [
       "<Figure size 1000x600 with 1 Axes>"
      ]
     },
     "metadata": {},
     "output_type": "display_data"
    }
   ],
   "source": [
    "# Print the accuracy of the model\n",
    "for model_CNN, accuracy in model_accuracies.items():\n",
    "    print(f\"{model_CNN} Accuracy: {accuracy:.2f}%\")\n",
    "\n",
    "# Producing a model accuracy histogram\n",
    "import matplotlib.pyplot as plt\n",
    "\n",
    "plt.figure(figsize=(10, 6))\n",
    "plt.bar(model_accuracies.keys(), model_accuracies.values())\n",
    "plt.xlabel('MODEL')\n",
    "plt.ylabel('ACCURACY')\n",
    "plt.title('MODEL ACCURARIES on CIFAR-10 DATASET')\n",
    "plt.show()"
   ]
  }
 ],
 "metadata": {
  "kernelspec": {
   "display_name": "Python 3",
   "language": "python",
   "name": "python3"
  },
  "language_info": {
   "codemirror_mode": {
    "name": "ipython",
    "version": 3
   },
   "file_extension": ".py",
   "mimetype": "text/x-python",
   "name": "python",
   "nbconvert_exporter": "python",
   "pygments_lexer": "ipython3",
   "version": "3.12.7"
  }
 },
 "nbformat": 4,
 "nbformat_minor": 5
}
